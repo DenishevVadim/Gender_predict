{
 "cells": [
  {
   "cell_type": "code",
   "execution_count": 1,
   "metadata": {
    "_cell_guid": "b1076dfc-b9ad-4769-8c92-a6c4dae69d19",
    "_uuid": "8f2839f25d086af736a60e9eeb907d3b93b6e0e5",
    "execution": {
     "iopub.execute_input": "2020-09-15T17:42:14.484844Z",
     "iopub.status.busy": "2020-09-15T17:42:14.484042Z",
     "iopub.status.idle": "2020-09-15T17:42:16.186598Z",
     "shell.execute_reply": "2020-09-15T17:42:16.185947Z"
    },
    "papermill": {
     "duration": 1.732408,
     "end_time": "2020-09-15T17:42:16.186725",
     "exception": false,
     "start_time": "2020-09-15T17:42:14.454317",
     "status": "completed"
    },
    "tags": []
   },
   "outputs": [],
   "source": [
    "'''%matplotlib inline\n",
    "%config InlineBackend.figure_format = 'retina'\n",
    "import matplotlib.pyplot as plt\n",
    "import numpy as np\n",
    "import torch\n",
    "from torch import nn\n",
    "from torch import optim\n",
    "import torch.nn.functional as F\n",
    "from torchvision import datasets, transforms, models'''"
   ]
  },
  {
   "cell_type": "code",
   "execution_count": 2,
   "metadata": {
    "_cell_guid": "79c7e3d0-c299-4dcb-8224-4455121ee9b0",
    "_uuid": "d629ff2d2480ee46fbb7e2d37f6b5fab8052498a",
    "execution": {
     "iopub.execute_input": "2020-09-15T17:42:16.215068Z",
     "iopub.status.busy": "2020-09-15T17:42:16.214434Z",
     "iopub.status.idle": "2020-09-15T17:43:45.014870Z",
     "shell.execute_reply": "2020-09-15T17:43:45.015539Z"
    },
    "papermill": {
     "duration": 88.822156,
     "end_time": "2020-09-15T17:43:45.015702",
     "exception": false,
     "start_time": "2020-09-15T17:42:16.193546",
     "status": "completed"
    },
    "tags": []
   },
   "outputs": [
    {
     "name": "stdout",
     "output_type": "stream",
     "text": [
      "['female', 'male']\n"
     ]
    }
   ],
   "source": [
    "'''data_dir = '../input/ntechlab2/internship_data'\n",
    "def load_split_train_test(datadir, valid_size = .1):\n",
    "    train_transforms = transforms.Compose([transforms.Resize((224,224)),\n",
    "                                           transforms.RandomCrop([196, 196]),\n",
    "                                           transforms.RandomHorizontalFlip(),\n",
    "                                           transforms.ToTensor(),\n",
    "                                           transforms.Normalize(mean=[0.485, 0.456, 0.406],std=[0.229, 0.224, 0.225]),\n",
    "                                          ])\n",
    "    test_transforms = transforms.Compose([transforms.Resize((224,224)),\n",
    "                                          transforms.ToTensor(),\n",
    "                                          transforms.Normalize(mean=[0.485, 0.456, 0.406],std=[0.229, 0.224, 0.225]),\n",
    "                                         ])\n",
    "    train_data = datasets.ImageFolder(datadir, transform=train_transforms)\n",
    "    test_data = datasets.ImageFolder(datadir, transform=test_transforms)    \n",
    "    num_train = len(train_data)\n",
    "    indices = list(range(num_train))\n",
    "    split = int(np.floor(valid_size * num_train))\n",
    "    np.random.shuffle(indices)\n",
    "    from torch.utils.data.sampler import SubsetRandomSampler\n",
    "    train_idx, test_idx = indices[split:], indices[:split]\n",
    "    train_sampler = SubsetRandomSampler(train_idx)\n",
    "    test_sampler = SubsetRandomSampler(test_idx)\n",
    "    trainloader = torch.utils.data.DataLoader(train_data,\n",
    "                   sampler=train_sampler, batch_size=128)\n",
    "    testloader = torch.utils.data.DataLoader(test_data,\n",
    "                   sampler=test_sampler, batch_size=128)\n",
    "    return trainloader, testloader\n",
    "trainloader, testloader = load_split_train_test(data_dir, .2)\n",
    "print(trainloader.dataset.classes)'''"
   ]
  },
  {
   "cell_type": "code",
   "execution_count": 3,
   "metadata": {
    "execution": {
     "iopub.execute_input": "2020-09-15T17:43:45.403436Z",
     "iopub.status.busy": "2020-09-15T17:43:45.402544Z",
     "iopub.status.idle": "2020-09-15T17:43:47.877249Z",
     "shell.execute_reply": "2020-09-15T17:43:47.876662Z"
    },
    "papermill": {
     "duration": 2.855313,
     "end_time": "2020-09-15T17:43:47.877375",
     "exception": false,
     "start_time": "2020-09-15T17:43:45.022062",
     "status": "completed"
    },
    "tags": []
   },
   "outputs": [
    {
     "name": "stderr",
     "output_type": "stream",
     "text": [
      "Downloading: \"https://download.pytorch.org/models/resnext50_32x4d-7cdf4587.pth\" to /root/.cache/torch/checkpoints/resnext50_32x4d-7cdf4587.pth\n"
     ]
    },
    {
     "data": {
      "application/vnd.jupyter.widget-view+json": {
       "model_id": "5946c8abbd734688806d010718ef3674",
       "version_major": 2,
       "version_minor": 0
      },
      "text/plain": [
       "HBox(children=(FloatProgress(value=0.0, max=100441675.0), HTML(value='')))"
      ]
     },
     "metadata": {},
     "output_type": "display_data"
    },
    {
     "name": "stdout",
     "output_type": "stream",
     "text": [
      "\n"
     ]
    }
   ],
   "source": [
    "'''device = torch.device(\"cuda\" if torch.cuda.is_available() \n",
    "                                  else \"cpu\")\n",
    "model = models.resnext50_32x4d(pretrained=True)'''"
   ]
  },
  {
   "cell_type": "code",
   "execution_count": 4,
   "metadata": {
    "execution": {
     "iopub.execute_input": "2020-09-15T17:43:47.902265Z",
     "iopub.status.busy": "2020-09-15T17:43:47.901429Z",
     "iopub.status.idle": "2020-09-15T17:43:52.567524Z",
     "shell.execute_reply": "2020-09-15T17:43:52.566531Z"
    },
    "papermill": {
     "duration": 4.682179,
     "end_time": "2020-09-15T17:43:52.567645",
     "exception": false,
     "start_time": "2020-09-15T17:43:47.885466",
     "status": "completed"
    },
    "tags": []
   },
   "outputs": [],
   "source": [
    "'''for param in model.parameters():\n",
    "    param.requires_grad = True\n",
    "    \n",
    "model.fc = nn.Sequential(nn.Linear(2048, 512),\n",
    "                                 nn.Sigmoid(),\n",
    "                                 nn.Dropout(0.2),\n",
    "                                 nn.Linear(512, 2))\n",
    "criterion = nn.CrossEntropyLoss()\n",
    "optimizer = optim.Adam(model.parameters(), lr=0.00005)\n",
    "model.to(device);'''"
   ]
  },
  {
   "cell_type": "code",
   "execution_count": 5,
   "metadata": {
    "execution": {
     "iopub.execute_input": "2020-09-15T17:43:52.604526Z",
     "iopub.status.busy": "2020-09-15T17:43:52.603799Z",
     "iopub.status.idle": "2020-09-16T01:08:01.624229Z",
     "shell.execute_reply": "2020-09-16T01:08:01.623148Z"
    },
    "papermill": {
     "duration": 26649.048834,
     "end_time": "2020-09-16T01:08:01.624353",
     "exception": false,
     "start_time": "2020-09-15T17:43:52.575519",
     "status": "completed"
    },
    "tags": []
   },
   "outputs": [
    {
     "name": "stdout",
     "output_type": "stream",
     "text": [
      "Epoch 1/10.. Train loss: 0.289.. Test loss: 0.124.. Test accuracy: 0.954\n",
      "Epoch 1/10.. Train loss: 0.107.. Test loss: 0.086.. Test accuracy: 0.969\n",
      "Epoch 1/10.. Train loss: 0.098.. Test loss: 0.072.. Test accuracy: 0.973\n",
      "Epoch 1/10.. Train loss: 0.077.. Test loss: 0.074.. Test accuracy: 0.972\n",
      "Epoch 1/10.. Train loss: 0.072.. Test loss: 0.063.. Test accuracy: 0.977\n",
      "Epoch 1/10.. Train loss: 0.070.. Test loss: 0.058.. Test accuracy: 0.979\n",
      "Epoch 1/10.. Train loss: 0.065.. Test loss: 0.061.. Test accuracy: 0.977\n",
      "Epoch 1/10.. Train loss: 0.063.. Test loss: 0.056.. Test accuracy: 0.979\n",
      "Epoch 1/10.. Train loss: 0.072.. Test loss: 0.057.. Test accuracy: 0.979\n",
      "Epoch 1/10.. Train loss: 0.063.. Test loss: 0.058.. Test accuracy: 0.978\n",
      "Epoch 1/10.. Train loss: 0.062.. Test loss: 0.051.. Test accuracy: 0.981\n",
      "Epoch 1/10.. Train loss: 0.054.. Test loss: 0.051.. Test accuracy: 0.982\n",
      "Epoch 2/10.. Train loss: 0.078.. Test loss: 0.081.. Test accuracy: 0.969\n",
      "Epoch 2/10.. Train loss: 0.048.. Test loss: 0.052.. Test accuracy: 0.982\n",
      "Epoch 2/10.. Train loss: 0.042.. Test loss: 0.052.. Test accuracy: 0.982\n",
      "Epoch 2/10.. Train loss: 0.042.. Test loss: 0.052.. Test accuracy: 0.981\n",
      "Epoch 2/10.. Train loss: 0.047.. Test loss: 0.049.. Test accuracy: 0.983\n",
      "Epoch 2/10.. Train loss: 0.043.. Test loss: 0.049.. Test accuracy: 0.982\n",
      "Epoch 2/10.. Train loss: 0.046.. Test loss: 0.050.. Test accuracy: 0.982\n",
      "Epoch 2/10.. Train loss: 0.051.. Test loss: 0.051.. Test accuracy: 0.981\n",
      "Epoch 2/10.. Train loss: 0.044.. Test loss: 0.048.. Test accuracy: 0.982\n",
      "Epoch 2/10.. Train loss: 0.046.. Test loss: 0.049.. Test accuracy: 0.983\n",
      "Epoch 2/10.. Train loss: 0.041.. Test loss: 0.049.. Test accuracy: 0.982\n",
      "Epoch 2/10.. Train loss: 0.039.. Test loss: 0.046.. Test accuracy: 0.982\n",
      "Epoch 2/10.. Train loss: 0.046.. Test loss: 0.050.. Test accuracy: 0.982\n",
      "Epoch 3/10.. Train loss: 0.027.. Test loss: 0.050.. Test accuracy: 0.983\n",
      "Epoch 3/10.. Train loss: 0.027.. Test loss: 0.053.. Test accuracy: 0.983\n",
      "Epoch 3/10.. Train loss: 0.032.. Test loss: 0.045.. Test accuracy: 0.984\n",
      "Epoch 3/10.. Train loss: 0.033.. Test loss: 0.054.. Test accuracy: 0.982\n",
      "Epoch 3/10.. Train loss: 0.030.. Test loss: 0.050.. Test accuracy: 0.983\n",
      "Epoch 3/10.. Train loss: 0.032.. Test loss: 0.054.. Test accuracy: 0.981\n",
      "Epoch 3/10.. Train loss: 0.036.. Test loss: 0.059.. Test accuracy: 0.980\n",
      "Epoch 3/10.. Train loss: 0.030.. Test loss: 0.052.. Test accuracy: 0.980\n",
      "Epoch 3/10.. Train loss: 0.030.. Test loss: 0.056.. Test accuracy: 0.981\n",
      "Epoch 3/10.. Train loss: 0.030.. Test loss: 0.050.. Test accuracy: 0.983\n",
      "Epoch 3/10.. Train loss: 0.035.. Test loss: 0.052.. Test accuracy: 0.982\n",
      "Epoch 3/10.. Train loss: 0.039.. Test loss: 0.050.. Test accuracy: 0.983\n",
      "Epoch 4/10.. Train loss: 0.024.. Test loss: 0.054.. Test accuracy: 0.982\n",
      "Epoch 4/10.. Train loss: 0.021.. Test loss: 0.050.. Test accuracy: 0.984\n",
      "Epoch 4/10.. Train loss: 0.020.. Test loss: 0.057.. Test accuracy: 0.981\n",
      "Epoch 4/10.. Train loss: 0.029.. Test loss: 0.050.. Test accuracy: 0.984\n",
      "Epoch 4/10.. Train loss: 0.028.. Test loss: 0.050.. Test accuracy: 0.984\n",
      "Epoch 4/10.. Train loss: 0.023.. Test loss: 0.052.. Test accuracy: 0.982\n",
      "Epoch 4/10.. Train loss: 0.027.. Test loss: 0.052.. Test accuracy: 0.983\n",
      "Epoch 4/10.. Train loss: 0.026.. Test loss: 0.052.. Test accuracy: 0.983\n",
      "Epoch 4/10.. Train loss: 0.024.. Test loss: 0.052.. Test accuracy: 0.983\n",
      "Epoch 4/10.. Train loss: 0.027.. Test loss: 0.052.. Test accuracy: 0.984\n",
      "Epoch 4/10.. Train loss: 0.028.. Test loss: 0.053.. Test accuracy: 0.983\n",
      "Epoch 4/10.. Train loss: 0.027.. Test loss: 0.054.. Test accuracy: 0.983\n",
      "Epoch 4/10.. Train loss: 0.029.. Test loss: 0.050.. Test accuracy: 0.983\n",
      "Epoch 5/10.. Train loss: 0.021.. Test loss: 0.054.. Test accuracy: 0.984\n",
      "Epoch 5/10.. Train loss: 0.019.. Test loss: 0.052.. Test accuracy: 0.984\n",
      "Epoch 5/10.. Train loss: 0.017.. Test loss: 0.057.. Test accuracy: 0.982\n",
      "Epoch 5/10.. Train loss: 0.019.. Test loss: 0.068.. Test accuracy: 0.980\n",
      "Epoch 5/10.. Train loss: 0.016.. Test loss: 0.057.. Test accuracy: 0.983\n",
      "Epoch 5/10.. Train loss: 0.022.. Test loss: 0.054.. Test accuracy: 0.983\n",
      "Epoch 5/10.. Train loss: 0.021.. Test loss: 0.050.. Test accuracy: 0.984\n",
      "Epoch 5/10.. Train loss: 0.016.. Test loss: 0.059.. Test accuracy: 0.982\n",
      "Epoch 5/10.. Train loss: 0.020.. Test loss: 0.058.. Test accuracy: 0.982\n",
      "Epoch 5/10.. Train loss: 0.025.. Test loss: 0.054.. Test accuracy: 0.984\n",
      "Epoch 5/10.. Train loss: 0.015.. Test loss: 0.055.. Test accuracy: 0.984\n",
      "Epoch 5/10.. Train loss: 0.024.. Test loss: 0.060.. Test accuracy: 0.982\n",
      "Epoch 6/10.. Train loss: 0.021.. Test loss: 0.048.. Test accuracy: 0.984\n",
      "Epoch 6/10.. Train loss: 0.016.. Test loss: 0.059.. Test accuracy: 0.982\n",
      "Epoch 6/10.. Train loss: 0.014.. Test loss: 0.055.. Test accuracy: 0.984\n",
      "Epoch 6/10.. Train loss: 0.014.. Test loss: 0.059.. Test accuracy: 0.983\n",
      "Epoch 6/10.. Train loss: 0.017.. Test loss: 0.059.. Test accuracy: 0.983\n",
      "Epoch 6/10.. Train loss: 0.011.. Test loss: 0.063.. Test accuracy: 0.982\n",
      "Epoch 6/10.. Train loss: 0.015.. Test loss: 0.059.. Test accuracy: 0.982\n",
      "Epoch 6/10.. Train loss: 0.018.. Test loss: 0.054.. Test accuracy: 0.983\n",
      "Epoch 6/10.. Train loss: 0.015.. Test loss: 0.056.. Test accuracy: 0.984\n",
      "Epoch 6/10.. Train loss: 0.015.. Test loss: 0.057.. Test accuracy: 0.983\n",
      "Epoch 6/10.. Train loss: 0.018.. Test loss: 0.054.. Test accuracy: 0.984\n",
      "Epoch 6/10.. Train loss: 0.015.. Test loss: 0.059.. Test accuracy: 0.984\n",
      "Epoch 6/10.. Train loss: 0.015.. Test loss: 0.063.. Test accuracy: 0.982\n",
      "Epoch 7/10.. Train loss: 0.013.. Test loss: 0.054.. Test accuracy: 0.984\n",
      "Epoch 7/10.. Train loss: 0.010.. Test loss: 0.059.. Test accuracy: 0.983\n",
      "Epoch 7/10.. Train loss: 0.016.. Test loss: 0.061.. Test accuracy: 0.983\n",
      "Epoch 7/10.. Train loss: 0.015.. Test loss: 0.055.. Test accuracy: 0.984\n",
      "Epoch 7/10.. Train loss: 0.011.. Test loss: 0.059.. Test accuracy: 0.984\n",
      "Epoch 7/10.. Train loss: 0.017.. Test loss: 0.053.. Test accuracy: 0.985\n",
      "Epoch 7/10.. Train loss: 0.018.. Test loss: 0.058.. Test accuracy: 0.982\n",
      "Epoch 7/10.. Train loss: 0.014.. Test loss: 0.061.. Test accuracy: 0.982\n",
      "Epoch 7/10.. Train loss: 0.013.. Test loss: 0.059.. Test accuracy: 0.984\n",
      "Epoch 7/10.. Train loss: 0.014.. Test loss: 0.058.. Test accuracy: 0.984\n",
      "Epoch 7/10.. Train loss: 0.013.. Test loss: 0.058.. Test accuracy: 0.983\n",
      "Epoch 7/10.. Train loss: 0.016.. Test loss: 0.063.. Test accuracy: 0.982\n",
      "Epoch 8/10.. Train loss: 0.014.. Test loss: 0.051.. Test accuracy: 0.984\n",
      "Epoch 8/10.. Train loss: 0.010.. Test loss: 0.063.. Test accuracy: 0.983\n",
      "Epoch 8/10.. Train loss: 0.008.. Test loss: 0.060.. Test accuracy: 0.984\n",
      "Epoch 8/10.. Train loss: 0.005.. Test loss: 0.064.. Test accuracy: 0.983\n",
      "Epoch 8/10.. Train loss: 0.013.. Test loss: 0.072.. Test accuracy: 0.982\n",
      "Epoch 8/10.. Train loss: 0.010.. Test loss: 0.063.. Test accuracy: 0.983\n",
      "Epoch 8/10.. Train loss: 0.009.. Test loss: 0.064.. Test accuracy: 0.983\n",
      "Epoch 8/10.. Train loss: 0.013.. Test loss: 0.069.. Test accuracy: 0.982\n",
      "Epoch 8/10.. Train loss: 0.014.. Test loss: 0.062.. Test accuracy: 0.981\n",
      "Epoch 8/10.. Train loss: 0.015.. Test loss: 0.056.. Test accuracy: 0.984\n",
      "Epoch 8/10.. Train loss: 0.016.. Test loss: 0.057.. Test accuracy: 0.984\n",
      "Epoch 8/10.. Train loss: 0.018.. Test loss: 0.053.. Test accuracy: 0.985\n",
      "Epoch 8/10.. Train loss: 0.011.. Test loss: 0.057.. Test accuracy: 0.984\n",
      "Epoch 9/10.. Train loss: 0.008.. Test loss: 0.054.. Test accuracy: 0.985\n",
      "Epoch 9/10.. Train loss: 0.011.. Test loss: 0.054.. Test accuracy: 0.984\n",
      "Epoch 9/10.. Train loss: 0.008.. Test loss: 0.063.. Test accuracy: 0.982\n",
      "Epoch 9/10.. Train loss: 0.010.. Test loss: 0.057.. Test accuracy: 0.984\n",
      "Epoch 9/10.. Train loss: 0.013.. Test loss: 0.052.. Test accuracy: 0.984\n",
      "Epoch 9/10.. Train loss: 0.010.. Test loss: 0.056.. Test accuracy: 0.984\n",
      "Epoch 9/10.. Train loss: 0.009.. Test loss: 0.057.. Test accuracy: 0.984\n",
      "Epoch 9/10.. Train loss: 0.010.. Test loss: 0.053.. Test accuracy: 0.985\n",
      "Epoch 9/10.. Train loss: 0.009.. Test loss: 0.059.. Test accuracy: 0.983\n",
      "Epoch 9/10.. Train loss: 0.008.. Test loss: 0.059.. Test accuracy: 0.984\n",
      "Epoch 9/10.. Train loss: 0.008.. Test loss: 0.060.. Test accuracy: 0.984\n",
      "Epoch 9/10.. Train loss: 0.011.. Test loss: 0.057.. Test accuracy: 0.984\n",
      "Epoch 10/10.. Train loss: 0.019.. Test loss: 0.060.. Test accuracy: 0.983\n",
      "Epoch 10/10.. Train loss: 0.008.. Test loss: 0.060.. Test accuracy: 0.984\n",
      "Epoch 10/10.. Train loss: 0.008.. Test loss: 0.060.. Test accuracy: 0.984\n",
      "Epoch 10/10.. Train loss: 0.007.. Test loss: 0.067.. Test accuracy: 0.983\n",
      "Epoch 10/10.. Train loss: 0.008.. Test loss: 0.065.. Test accuracy: 0.984\n",
      "Epoch 10/10.. Train loss: 0.009.. Test loss: 0.065.. Test accuracy: 0.983\n",
      "Epoch 10/10.. Train loss: 0.008.. Test loss: 0.061.. Test accuracy: 0.985\n",
      "Epoch 10/10.. Train loss: 0.008.. Test loss: 0.062.. Test accuracy: 0.984\n",
      "Epoch 10/10.. Train loss: 0.011.. Test loss: 0.069.. Test accuracy: 0.982\n",
      "Epoch 10/10.. Train loss: 0.008.. Test loss: 0.067.. Test accuracy: 0.981\n",
      "Epoch 10/10.. Train loss: 0.012.. Test loss: 0.055.. Test accuracy: 0.984\n",
      "Epoch 10/10.. Train loss: 0.009.. Test loss: 0.057.. Test accuracy: 0.985\n",
      "Epoch 10/10.. Train loss: 0.006.. Test loss: 0.062.. Test accuracy: 0.984\n"
     ]
    }
   ],
   "source": [
    "'''epochs = 10\n",
    "steps = 0\n",
    "running_loss = 0\n",
    "print_every = 50\n",
    "train_losses, test_losses = [], []\n",
    "for epoch in range(epochs):\n",
    "    for inputs, labels in trainloader:\n",
    "        steps += 1\n",
    "        inputs, labels = inputs.to(device), labels.to(device)\n",
    "        optimizer.zero_grad()\n",
    "        logps = model.forward(inputs)\n",
    "        loss = criterion(logps, labels)\n",
    "        loss.backward()\n",
    "        optimizer.step()\n",
    "        running_loss += loss.item()\n",
    "        \n",
    "        if steps % print_every == 0:\n",
    "            test_loss = 0\n",
    "            accuracy = 0\n",
    "            model.eval()\n",
    "            with torch.no_grad():\n",
    "                for inputs, labels in testloader:\n",
    "                    inputs, labels = inputs.to(device), labels.to(device)\n",
    "                    logps = model.forward(inputs)\n",
    "                    batch_loss = criterion(logps, labels)\n",
    "                    test_loss += batch_loss.item()\n",
    "                    \n",
    "                    ps = torch.exp(logps)\n",
    "                    top_p, top_class = ps.topk(1, dim=1)\n",
    "                    equals = top_class == labels.view(*top_class.shape)\n",
    "                    accuracy += torch.mean(equals.type(torch.FloatTensor)).item()                \n",
    "            print(f\"Epoch {epoch+1}/{epochs}.. \"\n",
    "                  f\"Train loss: {running_loss/print_every:.3f}.. \"\n",
    "                  f\"Test loss: {test_loss/len(testloader):.3f}.. \"\n",
    "                  f\"Test accuracy: {accuracy/len(testloader):.3f}\")\n",
    "            running_loss = 0\n",
    "            model.train()\n",
    "torch.save(model, 'aerialmodel.pth')'''"
   ]
  },
  {
   "cell_type": "code",
   "execution_count": 6,
   "metadata": {
    "execution": {
     "iopub.execute_input": "2020-09-16T01:08:01.734441Z",
     "iopub.status.busy": "2020-09-16T01:08:01.733594Z",
     "iopub.status.idle": "2020-09-16T01:08:01.939167Z",
     "shell.execute_reply": "2020-09-16T01:08:01.939746Z"
    },
    "papermill": {
     "duration": 0.261846,
     "end_time": "2020-09-16T01:08:01.939923",
     "exception": false,
     "start_time": "2020-09-16T01:08:01.678077",
     "status": "completed"
    },
    "tags": []
   },
   "outputs": [
    {
     "data": {
      "image/png": "[encoded data removed]",
      "text/plain": [
       "<Figure size 432x288 with 1 Axes>"
      ]
     },
     "metadata": {
      "image/png": {
       "height": 248,
       "width": 386
      },
      "needs_background": "light"
     },
     "output_type": "display_data"
    }
   ],
   "source": [
    "'''plt.plot(train_losses, label='Training loss')\n",
    "plt.plot(test_losses, label='Validation loss')\n",
    "plt.legend(frameon=False)\n",
    "plt.show()'''"
   ]
  }
 ],
 "metadata": {
  "kernelspec": {
   "display_name": "Python 3",
   "language": "python",
   "name": "python3"
  },
  "language_info": {
   "codemirror_mode": {
    "name": "ipython",
    "version": 3
   },
   "file_extension": ".py",
   "mimetype": "text/x-python",
   "name": "python",
   "nbconvert_exporter": "python",
   "pygments_lexer": "ipython3",
   "version": "3.7.6"
  },
  "papermill": {
   "duration": 26753.092931,
   "end_time": "2020-09-16T01:08:03.025459",
   "environment_variables": {},
   "exception": null,
   "input_path": "__notebook__.ipynb",
   "output_path": "__notebook__.ipynb",
   "parameters": {},
   "start_time": "2020-09-15T17:42:09.932528",
   "version": "2.1.0"
  },
  "widgets": {
   "application/vnd.jupyter.widget-state+json": {
    "state": {
     "3829861bacbf4e2ebc9b10f6144ce762": {
      "model_module": "@jupyter-widgets/base",
      "model_module_version": "1.2.0",
      "model_name": "LayoutModel",
      "state": {
       "_model_module": "@jupyter-widgets/base",
       "_model_module_version": "1.2.0",
       "_model_name": "LayoutModel",
       "_view_count": null,
       "_view_module": "@jupyter-widgets/base",
       "_view_module_version": "1.2.0",
       "_view_name": "LayoutView",
       "align_content": null,
       "align_items": null,
       "align_self": null,
       "border": null,
       "bottom": null,
       "display": null,
       "flex": null,
       "flex_flow": null,
       "grid_area": null,
       "grid_auto_columns": null,
       "grid_auto_flow": null,
       "grid_auto_rows": null,
       "grid_column": null,
       "grid_gap": null,
       "grid_row": null,
       "grid_template_areas": null,
       "grid_template_columns": null,
       "grid_template_rows": null,
       "height": null,
       "justify_content": null,
       "justify_items": null,
       "left": null,
       "margin": null,
       "max_height": null,
       "max_width": null,
       "min_height": null,
       "min_width": null,
       "object_fit": null,
       "object_position": null,
       "order": null,
       "overflow": null,
       "overflow_x": null,
       "overflow_y": null,
       "padding": null,
       "right": null,
       "top": null,
       "visibility": null,
       "width": null
      }
     },
     "3dae09df3b744da1bb199508a1140cbf": {
      "model_module": "@jupyter-widgets/controls",
      "model_module_version": "1.5.0",
      "model_name": "HTMLModel",
      "state": {
       "_dom_classes": [],
       "_model_module": "@jupyter-widgets/controls",
       "_model_module_version": "1.5.0",
       "_model_name": "HTMLModel",
       "_view_count": null,
       "_view_module": "@jupyter-widgets/controls",
       "_view_module_version": "1.5.0",
       "_view_name": "HTMLView",
       "description": "",
       "description_tooltip": null,
       "layout": "IPY_MODEL_89f2d660051f45bfbf7bc27774e0011e",
       "placeholder": "​",
       "style": "IPY_MODEL_47ec674926fc48168680c901e884303b",
       "value": " 95.8M/95.8M [00:06&lt;00:00, 15.3MB/s]"
      }
     },
     "47ec674926fc48168680c901e884303b": {
      "model_module": "@jupyter-widgets/controls",
      "model_module_version": "1.5.0",
      "model_name": "DescriptionStyleModel",
      "state": {
       "_model_module": "@jupyter-widgets/controls",
       "_model_module_version": "1.5.0",
       "_model_name": "DescriptionStyleModel",
       "_view_count": null,
       "_view_module": "@jupyter-widgets/base",
       "_view_module_version": "1.2.0",
       "_view_name": "StyleView",
       "description_width": ""
      }
     },
     "5946c8abbd734688806d010718ef3674": {
      "model_module": "@jupyter-widgets/controls",
      "model_module_version": "1.5.0",
      "model_name": "HBoxModel",
      "state": {
       "_dom_classes": [],
       "_model_module": "@jupyter-widgets/controls",
       "_model_module_version": "1.5.0",
       "_model_name": "HBoxModel",
       "_view_count": null,
       "_view_module": "@jupyter-widgets/controls",
       "_view_module_version": "1.5.0",
       "_view_name": "HBoxView",
       "box_style": "",
       "children": [
        "IPY_MODEL_814f498198cf4ef1a65a801ff9fe5d8f",
        "IPY_MODEL_3dae09df3b744da1bb199508a1140cbf"
       ],
       "layout": "IPY_MODEL_b8243439ed06471ea84cb4a42b5be651"
      }
     },
     "814f498198cf4ef1a65a801ff9fe5d8f": {
      "model_module": "@jupyter-widgets/controls",
      "model_module_version": "1.5.0",
      "model_name": "FloatProgressModel",
      "state": {
       "_dom_classes": [],
       "_model_module": "@jupyter-widgets/controls",
       "_model_module_version": "1.5.0",
       "_model_name": "FloatProgressModel",
       "_view_count": null,
       "_view_module": "@jupyter-widgets/controls",
       "_view_module_version": "1.5.0",
       "_view_name": "ProgressView",
       "bar_style": "success",
       "description": "100%",
       "description_tooltip": null,
       "layout": "IPY_MODEL_3829861bacbf4e2ebc9b10f6144ce762",
       "max": 100441675.0,
       "min": 0.0,
       "orientation": "horizontal",
       "style": "IPY_MODEL_f184c21a2d45427fa6d05a3eaadaba57",
       "value": 100441675.0
      }
     },
     "89f2d660051f45bfbf7bc27774e0011e": {
      "model_module": "@jupyter-widgets/base",
      "model_module_version": "1.2.0",
      "model_name": "LayoutModel",
      "state": {
       "_model_module": "@jupyter-widgets/base",
       "_model_module_version": "1.2.0",
       "_model_name": "LayoutModel",
       "_view_count": null,
       "_view_module": "@jupyter-widgets/base",
       "_view_module_version": "1.2.0",
       "_view_name": "LayoutView",
       "align_content": null,
       "align_items": null,
       "align_self": null,
       "border": null,
       "bottom": null,
       "display": null,
       "flex": null,
       "flex_flow": null,
       "grid_area": null,
       "grid_auto_columns": null,
       "grid_auto_flow": null,
       "grid_auto_rows": null,
       "grid_column": null,
       "grid_gap": null,
       "grid_row": null,
       "grid_template_areas": null,
       "grid_template_columns": null,
       "grid_template_rows": null,
       "height": null,
       "justify_content": null,
       "justify_items": null,
       "left": null,
       "margin": null,
       "max_height": null,
       "max_width": null,
       "min_height": null,
       "min_width": null,
       "object_fit": null,
       "object_position": null,
       "order": null,
       "overflow": null,
       "overflow_x": null,
       "overflow_y": null,
       "padding": null,
       "right": null,
       "top": null,
       "visibility": null,
       "width": null
      }
     },
     "b8243439ed06471ea84cb4a42b5be651": {
      "model_module": "@jupyter-widgets/base",
      "model_module_version": "1.2.0",
      "model_name": "LayoutModel",
      "state": {
       "_model_module": "@jupyter-widgets/base",
       "_model_module_version": "1.2.0",
       "_model_name": "LayoutModel",
       "_view_count": null,
       "_view_module": "@jupyter-widgets/base",
       "_view_module_version": "1.2.0",
       "_view_name": "LayoutView",
       "align_content": null,
       "align_items": null,
       "align_self": null,
       "border": null,
       "bottom": null,
       "display": null,
       "flex": null,
       "flex_flow": null,
       "grid_area": null,
       "grid_auto_columns": null,
       "grid_auto_flow": null,
       "grid_auto_rows": null,
       "grid_column": null,
       "grid_gap": null,
       "grid_row": null,
       "grid_template_areas": null,
       "grid_template_columns": null,
       "grid_template_rows": null,
       "height": null,
       "justify_content": null,
       "justify_items": null,
       "left": null,
       "margin": null,
       "max_height": null,
       "max_width": null,
       "min_height": null,
       "min_width": null,
       "object_fit": null,
       "object_position": null,
       "order": null,
       "overflow": null,
       "overflow_x": null,
       "overflow_y": null,
       "padding": null,
       "right": null,
       "top": null,
       "visibility": null,
       "width": null
      }
     },
     "f184c21a2d45427fa6d05a3eaadaba57": {
      "model_module": "@jupyter-widgets/controls",
      "model_module_version": "1.5.0",
      "model_name": "ProgressStyleModel",
      "state": {
       "_model_module": "@jupyter-widgets/controls",
       "_model_module_version": "1.5.0",
       "_model_name": "ProgressStyleModel",
       "_view_count": null,
       "_view_module": "@jupyter-widgets/base",
       "_view_module_version": "1.2.0",
       "_view_name": "StyleView",
       "bar_color": null,
       "description_width": "initial"
      }
     }
    },
    "version_major": 2,
    "version_minor": 0
   }
  }
 },
 "nbformat": 4,
 "nbformat_minor": 4
}
