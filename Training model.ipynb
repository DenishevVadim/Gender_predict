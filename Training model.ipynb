{
 "cells": [
  {
   "cell_type": "code",
   "execution_count": 1,
   "metadata": {
    "_cell_guid": "79c7e3d0-c299-4dcb-8224-4455121ee9b0",
    "_uuid": "d629ff2d2480ee46fbb7e2d37f6b5fab8052498a",
    "execution": {
     "iopub.execute_input": "2020-09-12T13:38:49.345395Z",
     "iopub.status.busy": "2020-09-12T13:38:49.344504Z",
     "iopub.status.idle": "2020-09-12T13:38:50.923496Z",
     "shell.execute_reply": "2020-09-12T13:38:50.922870Z"
    },
    "papermill": {
     "duration": 1.611041,
     "end_time": "2020-09-12T13:38:50.923648",
     "exception": false,
     "start_time": "2020-09-12T13:38:49.312607",
     "status": "completed"
    },
    "tags": []
   },
   "outputs": [],
   "source": [
    "'''%matplotlib inline\n",
    "%config InlineBackend.figure_format = 'retina'\n",
    "import matplotlib.pyplot as plt\n",
    "import numpy as np\n",
    "import torch\n",
    "from torch import nn\n",
    "from torch import optim\n",
    "import torch.nn.functional as F\n",
    "from torchvision import datasets, transforms, models'''"
   ]
  },
  {
   "cell_type": "code",
   "execution_count": 2,
   "metadata": {
    "execution": {
     "iopub.execute_input": "2020-09-12T13:38:50.952176Z",
     "iopub.status.busy": "2020-09-12T13:38:50.945019Z",
     "iopub.status.idle": "2020-09-12T13:43:55.336914Z",
     "shell.execute_reply": "2020-09-12T13:43:55.337823Z"
    },
    "papermill": {
     "duration": 304.407641,
     "end_time": "2020-09-12T13:43:55.338037",
     "exception": false,
     "start_time": "2020-09-12T13:38:50.930396",
     "status": "completed"
    },
    "tags": []
   },
   "outputs": [
    {
     "name": "stdout",
     "output_type": "stream",
     "text": [
      "['female', 'male']\n"
     ]
    }
   ],
   "source": [
    "'''data_dir = '../input/ntechlab2/internship_data'\n",
    "def load_split_train_test(datadir, valid_size = .1):\n",
    "    train_transforms = transforms.Compose([transforms.Resize((224,224)),\n",
    "                                           transforms.RandomCrop([196, 196]),\n",
    "                                           transforms.RandomHorizontalFlip(),\n",
    "                                           transforms.ToTensor(),\n",
    "                                           transforms.Normalize(mean=[0.485, 0.456, 0.406],std=[0.229, 0.224, 0.225]),\n",
    "                                          ])\n",
    "    test_transforms = transforms.Compose([transforms.Resize((224,224)),\n",
    "                                          transforms.ToTensor(),\n",
    "                                          transforms.Normalize(mean=[0.485, 0.456, 0.406],std=[0.229, 0.224, 0.225]),\n",
    "                                         ])\n",
    "    train_data = datasets.ImageFolder(datadir, transform=train_transforms)\n",
    "    test_data = datasets.ImageFolder(datadir, transform=test_transforms)    \n",
    "    num_train = len(train_data)\n",
    "    indices = list(range(num_train))\n",
    "    split = int(np.floor(valid_size * num_train))\n",
    "    np.random.shuffle(indices)\n",
    "    from torch.utils.data.sampler import SubsetRandomSampler\n",
    "    train_idx, test_idx = indices[split:], indices[:split]\n",
    "    train_sampler = SubsetRandomSampler(train_idx)\n",
    "    test_sampler = SubsetRandomSampler(test_idx)\n",
    "    trainloader = torch.utils.data.DataLoader(train_data,\n",
    "                   sampler=train_sampler, batch_size=128)\n",
    "    testloader = torch.utils.data.DataLoader(test_data,\n",
    "                   sampler=test_sampler, batch_size=128)\n",
    "    return trainloader, testloader\n",
    "trainloader, testloader = load_split_train_test(data_dir, .2)\n",
    "print(trainloader.dataset.classes)'''"
   ]
  },
  {
   "cell_type": "code",
   "execution_count": 3,
   "metadata": {
    "execution": {
     "iopub.execute_input": "2020-09-12T13:43:55.708334Z",
     "iopub.status.busy": "2020-09-12T13:43:55.707406Z",
     "iopub.status.idle": "2020-09-12T13:43:57.094845Z",
     "shell.execute_reply": "2020-09-12T13:43:57.094268Z"
    },
    "papermill": {
     "duration": 1.74963,
     "end_time": "2020-09-12T13:43:57.094958",
     "exception": false,
     "start_time": "2020-09-12T13:43:55.345328",
     "status": "completed"
    },
    "tags": []
   },
   "outputs": [
    {
     "name": "stderr",
     "output_type": "stream",
     "text": [
      "Downloading: \"https://download.pytorch.org/models/resnet34-333f7ec4.pth\" to /root/.cache/torch/checkpoints/resnet34-333f7ec4.pth\n"
     ]
    },
    {
     "data": {
      "application/vnd.jupyter.widget-view+json": {
       "model_id": "c9ab3894c9ee405cbf843254ba5e295c",
       "version_major": 2,
       "version_minor": 0
      },
      "text/plain": [
       "HBox(children=(FloatProgress(value=0.0, max=87306240.0), HTML(value='')))"
      ]
     },
     "metadata": {},
     "output_type": "display_data"
    },
    {
     "name": "stdout",
     "output_type": "stream",
     "text": [
      "\n"
     ]
    }
   ],
   "source": [
    "'''device = torch.device(\"cuda\" if torch.cuda.is_available() \n",
    "                                  else \"cpu\")\n",
    "model = models.resnet34(pretrained=True)'''"
   ]
  },
  {
   "cell_type": "code",
   "execution_count": 4,
   "metadata": {
    "execution": {
     "iopub.execute_input": "2020-09-12T13:43:57.119507Z",
     "iopub.status.busy": "2020-09-12T13:43:57.118448Z",
     "iopub.status.idle": "2020-09-12T13:44:01.412252Z",
     "shell.execute_reply": "2020-09-12T13:44:01.411276Z"
    },
    "papermill": {
     "duration": 4.309096,
     "end_time": "2020-09-12T13:44:01.412387",
     "exception": false,
     "start_time": "2020-09-12T13:43:57.103291",
     "status": "completed"
    },
    "tags": []
   },
   "outputs": [],
   "source": [
    "'''for param in model.parameters():\n",
    "    param.requires_grad = True\n",
    "    \n",
    "model.fc = nn.Sequential(nn.Linear(512, 256),\n",
    "                                 nn.ReLU(),\n",
    "                                 nn.Dropout(0.2),\n",
    "                                 nn.Linear(256, 2))\n",
    "criterion = nn.CrossEntropyLoss()\n",
    "optimizer = optim.Adam(model.parameters(), lr=0.0015)\n",
    "model.to(device);'''"
   ]
  },
  {
   "cell_type": "code",
   "execution_count": 5,
   "metadata": {
    "execution": {
     "iopub.execute_input": "2020-09-12T13:44:01.444147Z",
     "iopub.status.busy": "2020-09-12T13:44:01.441486Z",
     "iopub.status.idle": "2020-09-12T19:21:36.841986Z",
     "shell.execute_reply": "2020-09-12T19:21:36.841189Z"
    },
    "papermill": {
     "duration": 20255.421644,
     "end_time": "2020-09-12T19:21:36.842129",
     "exception": false,
     "start_time": "2020-09-12T13:44:01.420485",
     "status": "completed"
    },
    "tags": []
   },
   "outputs": [
    {
     "name": "stdout",
     "output_type": "stream",
     "text": [
      "Epoch 1/2.. Train loss: 0.487.. Test loss: 20.573.. Test accuracy: 0.498\n",
      "Epoch 1/2.. Train loss: 0.233.. Test loss: 2.141.. Test accuracy: 0.760\n",
      "Epoch 1/2.. Train loss: 0.186.. Test loss: 1.876.. Test accuracy: 0.620\n",
      "Epoch 1/2.. Train loss: 0.170.. Test loss: 0.243.. Test accuracy: 0.917\n",
      "Epoch 1/2.. Train loss: 0.155.. Test loss: 0.257.. Test accuracy: 0.906\n",
      "Epoch 1/2.. Train loss: 0.156.. Test loss: 0.147.. Test accuracy: 0.939\n",
      "Epoch 1/2.. Train loss: 0.131.. Test loss: 0.220.. Test accuracy: 0.907\n",
      "Epoch 1/2.. Train loss: 0.134.. Test loss: 0.213.. Test accuracy: 0.927\n",
      "Epoch 1/2.. Train loss: 0.142.. Test loss: 0.117.. Test accuracy: 0.956\n",
      "Epoch 1/2.. Train loss: 0.114.. Test loss: 0.208.. Test accuracy: 0.913\n",
      "Epoch 1/2.. Train loss: 0.114.. Test loss: 0.348.. Test accuracy: 0.859\n",
      "Epoch 1/2.. Train loss: 0.132.. Test loss: 0.248.. Test accuracy: 0.906\n",
      "Epoch 1/2.. Train loss: 0.138.. Test loss: 0.388.. Test accuracy: 0.862\n",
      "Epoch 1/2.. Train loss: 0.147.. Test loss: 0.168.. Test accuracy: 0.933\n",
      "Epoch 1/2.. Train loss: 0.123.. Test loss: 0.115.. Test accuracy: 0.959\n",
      "Epoch 1/2.. Train loss: 0.083.. Test loss: 0.192.. Test accuracy: 0.924\n",
      "Epoch 1/2.. Train loss: 0.123.. Test loss: 0.669.. Test accuracy: 0.795\n",
      "Epoch 1/2.. Train loss: 0.126.. Test loss: 0.149.. Test accuracy: 0.948\n",
      "Epoch 1/2.. Train loss: 0.118.. Test loss: 0.117.. Test accuracy: 0.952\n",
      "Epoch 1/2.. Train loss: 0.102.. Test loss: 0.116.. Test accuracy: 0.958\n",
      "Epoch 1/2.. Train loss: 0.117.. Test loss: 0.175.. Test accuracy: 0.935\n",
      "Epoch 1/2.. Train loss: 0.106.. Test loss: 0.140.. Test accuracy: 0.950\n",
      "Epoch 1/2.. Train loss: 0.111.. Test loss: 0.350.. Test accuracy: 0.883\n",
      "Epoch 1/2.. Train loss: 0.109.. Test loss: 0.379.. Test accuracy: 0.857\n",
      "Epoch 1/2.. Train loss: 0.112.. Test loss: 0.135.. Test accuracy: 0.947\n",
      "Epoch 1/2.. Train loss: 0.127.. Test loss: 0.241.. Test accuracy: 0.902\n",
      "Epoch 1/2.. Train loss: 0.112.. Test loss: 0.119.. Test accuracy: 0.957\n",
      "Epoch 1/2.. Train loss: 0.093.. Test loss: 0.118.. Test accuracy: 0.953\n",
      "Epoch 1/2.. Train loss: 0.095.. Test loss: 0.130.. Test accuracy: 0.951\n",
      "Epoch 1/2.. Train loss: 0.110.. Test loss: 0.135.. Test accuracy: 0.946\n",
      "Epoch 1/2.. Train loss: 0.111.. Test loss: 0.086.. Test accuracy: 0.967\n",
      "Epoch 1/2.. Train loss: 0.075.. Test loss: 0.101.. Test accuracy: 0.959\n",
      "Epoch 1/2.. Train loss: 0.091.. Test loss: 0.095.. Test accuracy: 0.964\n",
      "Epoch 1/2.. Train loss: 0.111.. Test loss: 0.096.. Test accuracy: 0.965\n",
      "Epoch 1/2.. Train loss: 0.106.. Test loss: 0.140.. Test accuracy: 0.952\n",
      "Epoch 1/2.. Train loss: 0.120.. Test loss: 0.157.. Test accuracy: 0.931\n",
      "Epoch 1/2.. Train loss: 0.104.. Test loss: 0.098.. Test accuracy: 0.962\n",
      "Epoch 1/2.. Train loss: 0.107.. Test loss: 0.088.. Test accuracy: 0.967\n",
      "Epoch 1/2.. Train loss: 0.083.. Test loss: 0.096.. Test accuracy: 0.964\n",
      "Epoch 1/2.. Train loss: 0.071.. Test loss: 0.100.. Test accuracy: 0.964\n",
      "Epoch 1/2.. Train loss: 0.094.. Test loss: 0.344.. Test accuracy: 0.875\n",
      "Epoch 1/2.. Train loss: 0.092.. Test loss: 0.098.. Test accuracy: 0.963\n",
      "Epoch 1/2.. Train loss: 0.106.. Test loss: 0.098.. Test accuracy: 0.963\n",
      "Epoch 1/2.. Train loss: 0.086.. Test loss: 0.108.. Test accuracy: 0.958\n",
      "Epoch 1/2.. Train loss: 0.096.. Test loss: 0.091.. Test accuracy: 0.965\n",
      "Epoch 1/2.. Train loss: 0.110.. Test loss: 0.153.. Test accuracy: 0.943\n",
      "Epoch 1/2.. Train loss: 0.117.. Test loss: 0.101.. Test accuracy: 0.958\n",
      "Epoch 1/2.. Train loss: 0.094.. Test loss: 0.093.. Test accuracy: 0.964\n",
      "Epoch 1/2.. Train loss: 0.085.. Test loss: 0.090.. Test accuracy: 0.969\n",
      "Epoch 1/2.. Train loss: 0.077.. Test loss: 0.104.. Test accuracy: 0.964\n",
      "Epoch 1/2.. Train loss: 0.057.. Test loss: 0.092.. Test accuracy: 0.966\n",
      "Epoch 1/2.. Train loss: 0.105.. Test loss: 0.113.. Test accuracy: 0.958\n",
      "Epoch 1/2.. Train loss: 0.080.. Test loss: 0.096.. Test accuracy: 0.963\n",
      "Epoch 1/2.. Train loss: 0.098.. Test loss: 0.109.. Test accuracy: 0.956\n",
      "Epoch 1/2.. Train loss: 0.100.. Test loss: 0.090.. Test accuracy: 0.966\n",
      "Epoch 1/2.. Train loss: 0.075.. Test loss: 0.096.. Test accuracy: 0.963\n",
      "Epoch 1/2.. Train loss: 0.101.. Test loss: 0.104.. Test accuracy: 0.960\n",
      "Epoch 1/2.. Train loss: 0.110.. Test loss: 0.128.. Test accuracy: 0.943\n",
      "Epoch 1/2.. Train loss: 0.070.. Test loss: 0.107.. Test accuracy: 0.955\n",
      "Epoch 1/2.. Train loss: 0.084.. Test loss: 0.096.. Test accuracy: 0.965\n",
      "Epoch 1/2.. Train loss: 0.094.. Test loss: 0.112.. Test accuracy: 0.956\n",
      "Epoch 1/2.. Train loss: 0.083.. Test loss: 0.115.. Test accuracy: 0.955\n",
      "Epoch 2/2.. Train loss: 0.192.. Test loss: 0.376.. Test accuracy: 0.834\n",
      "Epoch 2/2.. Train loss: 0.205.. Test loss: 1.629.. Test accuracy: 0.595\n",
      "Epoch 2/2.. Train loss: 0.125.. Test loss: 0.271.. Test accuracy: 0.917\n",
      "Epoch 2/2.. Train loss: 0.109.. Test loss: 0.190.. Test accuracy: 0.938\n",
      "Epoch 2/2.. Train loss: 0.091.. Test loss: 0.216.. Test accuracy: 0.920\n",
      "Epoch 2/2.. Train loss: 0.125.. Test loss: 0.115.. Test accuracy: 0.957\n",
      "Epoch 2/2.. Train loss: 0.094.. Test loss: 0.123.. Test accuracy: 0.953\n",
      "Epoch 2/2.. Train loss: 0.094.. Test loss: 0.106.. Test accuracy: 0.959\n",
      "Epoch 2/2.. Train loss: 0.108.. Test loss: 0.111.. Test accuracy: 0.960\n",
      "Epoch 2/2.. Train loss: 0.112.. Test loss: 0.102.. Test accuracy: 0.964\n",
      "Epoch 2/2.. Train loss: 0.086.. Test loss: 0.099.. Test accuracy: 0.965\n",
      "Epoch 2/2.. Train loss: 0.073.. Test loss: 0.121.. Test accuracy: 0.958\n",
      "Epoch 2/2.. Train loss: 0.090.. Test loss: 0.101.. Test accuracy: 0.961\n",
      "Epoch 2/2.. Train loss: 0.121.. Test loss: 0.145.. Test accuracy: 0.944\n",
      "Epoch 2/2.. Train loss: 0.092.. Test loss: 0.155.. Test accuracy: 0.939\n",
      "Epoch 2/2.. Train loss: 0.078.. Test loss: 0.099.. Test accuracy: 0.964\n",
      "Epoch 2/2.. Train loss: 0.071.. Test loss: 0.091.. Test accuracy: 0.965\n",
      "Epoch 2/2.. Train loss: 0.111.. Test loss: 0.094.. Test accuracy: 0.966\n",
      "Epoch 2/2.. Train loss: 0.088.. Test loss: 0.090.. Test accuracy: 0.966\n",
      "Epoch 2/2.. Train loss: 0.088.. Test loss: 0.143.. Test accuracy: 0.942\n",
      "Epoch 2/2.. Train loss: 0.097.. Test loss: 0.085.. Test accuracy: 0.968\n",
      "Epoch 2/2.. Train loss: 0.102.. Test loss: 0.087.. Test accuracy: 0.968\n",
      "Epoch 2/2.. Train loss: 0.074.. Test loss: 0.073.. Test accuracy: 0.975\n",
      "Epoch 2/2.. Train loss: 0.086.. Test loss: 0.080.. Test accuracy: 0.970\n",
      "Epoch 2/2.. Train loss: 0.098.. Test loss: 0.093.. Test accuracy: 0.970\n",
      "Epoch 2/2.. Train loss: 0.068.. Test loss: 0.094.. Test accuracy: 0.965\n",
      "Epoch 2/2.. Train loss: 0.077.. Test loss: 0.093.. Test accuracy: 0.963\n",
      "Epoch 2/2.. Train loss: 0.070.. Test loss: 0.088.. Test accuracy: 0.966\n",
      "Epoch 2/2.. Train loss: 0.065.. Test loss: 0.097.. Test accuracy: 0.962\n",
      "Epoch 2/2.. Train loss: 0.075.. Test loss: 0.083.. Test accuracy: 0.968\n",
      "Epoch 2/2.. Train loss: 0.086.. Test loss: 0.106.. Test accuracy: 0.957\n",
      "Epoch 2/2.. Train loss: 0.091.. Test loss: 0.094.. Test accuracy: 0.964\n",
      "Epoch 2/2.. Train loss: 0.076.. Test loss: 0.084.. Test accuracy: 0.970\n",
      "Epoch 2/2.. Train loss: 0.070.. Test loss: 0.086.. Test accuracy: 0.967\n",
      "Epoch 2/2.. Train loss: 0.085.. Test loss: 0.111.. Test accuracy: 0.958\n",
      "Epoch 2/2.. Train loss: 0.086.. Test loss: 0.076.. Test accuracy: 0.972\n",
      "Epoch 2/2.. Train loss: 0.064.. Test loss: 0.076.. Test accuracy: 0.971\n",
      "Epoch 2/2.. Train loss: 0.077.. Test loss: 0.082.. Test accuracy: 0.968\n",
      "Epoch 2/2.. Train loss: 0.071.. Test loss: 0.154.. Test accuracy: 0.935\n",
      "Epoch 2/2.. Train loss: 0.060.. Test loss: 0.084.. Test accuracy: 0.967\n",
      "Epoch 2/2.. Train loss: 0.072.. Test loss: 0.077.. Test accuracy: 0.971\n",
      "Epoch 2/2.. Train loss: 0.070.. Test loss: 0.078.. Test accuracy: 0.969\n",
      "Epoch 2/2.. Train loss: 0.082.. Test loss: 0.112.. Test accuracy: 0.961\n",
      "Epoch 2/2.. Train loss: 0.083.. Test loss: 0.087.. Test accuracy: 0.970\n",
      "Epoch 2/2.. Train loss: 0.077.. Test loss: 0.107.. Test accuracy: 0.964\n",
      "Epoch 2/2.. Train loss: 0.076.. Test loss: 0.079.. Test accuracy: 0.970\n",
      "Epoch 2/2.. Train loss: 0.097.. Test loss: 0.083.. Test accuracy: 0.966\n",
      "Epoch 2/2.. Train loss: 0.060.. Test loss: 0.093.. Test accuracy: 0.963\n",
      "Epoch 2/2.. Train loss: 0.072.. Test loss: 0.114.. Test accuracy: 0.953\n",
      "Epoch 2/2.. Train loss: 0.072.. Test loss: 0.075.. Test accuracy: 0.971\n",
      "Epoch 2/2.. Train loss: 0.076.. Test loss: 0.075.. Test accuracy: 0.971\n",
      "Epoch 2/2.. Train loss: 0.079.. Test loss: 0.082.. Test accuracy: 0.970\n",
      "Epoch 2/2.. Train loss: 0.061.. Test loss: 0.089.. Test accuracy: 0.967\n",
      "Epoch 2/2.. Train loss: 0.059.. Test loss: 0.094.. Test accuracy: 0.964\n",
      "Epoch 2/2.. Train loss: 0.096.. Test loss: 0.080.. Test accuracy: 0.970\n",
      "Epoch 2/2.. Train loss: 0.070.. Test loss: 0.097.. Test accuracy: 0.959\n",
      "Epoch 2/2.. Train loss: 0.080.. Test loss: 0.082.. Test accuracy: 0.969\n",
      "Epoch 2/2.. Train loss: 0.053.. Test loss: 0.079.. Test accuracy: 0.970\n",
      "Epoch 2/2.. Train loss: 0.070.. Test loss: 0.085.. Test accuracy: 0.969\n",
      "Epoch 2/2.. Train loss: 0.071.. Test loss: 0.137.. Test accuracy: 0.943\n",
      "Epoch 2/2.. Train loss: 0.084.. Test loss: 0.075.. Test accuracy: 0.973\n",
      "Epoch 2/2.. Train loss: 0.069.. Test loss: 0.098.. Test accuracy: 0.960\n",
      "Epoch 2/2.. Train loss: 0.073.. Test loss: 0.071.. Test accuracy: 0.975\n"
     ]
    }
   ],
   "source": [
    "'''epochs = 2\n",
    "steps = 0\n",
    "running_loss = 0\n",
    "print_every = 10\n",
    "train_losses, test_losses = [], []\n",
    "for epoch in range(epochs):\n",
    "    for inputs, labels in trainloader:\n",
    "        steps += 1\n",
    "        inputs, labels = inputs.to(device), labels.to(device)\n",
    "        optimizer.zero_grad()\n",
    "        logps = model.forward(inputs)\n",
    "        loss = criterion(logps, labels)\n",
    "        loss.backward()\n",
    "        optimizer.step()\n",
    "        running_loss += loss.item()\n",
    "        \n",
    "        if steps % print_every == 0:\n",
    "            test_loss = 0\n",
    "            accuracy = 0\n",
    "            model.eval()\n",
    "            with torch.no_grad():\n",
    "                for inputs, labels in testloader:\n",
    "                    inputs, labels = inputs.to(device), labels.to(device)\n",
    "                    logps = model.forward(inputs)\n",
    "                    batch_loss = criterion(logps, labels)\n",
    "                    test_loss += batch_loss.item()\n",
    "                    \n",
    "                    ps = torch.exp(logps)\n",
    "                    top_p, top_class = ps.topk(1, dim=1)\n",
    "                    equals = top_class == labels.view(*top_class.shape)\n",
    "                    accuracy += torch.mean(equals.type(torch.FloatTensor)).item()\n",
    "            train_losses.append(running_loss/len(trainloader))\n",
    "            test_losses.append(test_loss/len(testloader))                    \n",
    "            print(f\"Epoch {epoch+1}/{epochs}.. \"\n",
    "                  f\"Train loss: {running_loss/print_every:.3f}.. \"\n",
    "                  f\"Test loss: {test_loss/len(testloader):.3f}.. \"\n",
    "                  f\"Test accuracy: {accuracy/len(testloader):.3f}\")\n",
    "            running_loss = 0\n",
    "            model.train()\n",
    "torch.save(model, 'aerialmodel.pth')'''"
   ]
  },
  {
   "cell_type": "code",
   "execution_count": 6,
   "metadata": {
    "execution": {
     "iopub.execute_input": "2020-09-12T19:21:36.948807Z",
     "iopub.status.busy": "2020-09-12T19:21:36.948012Z",
     "iopub.status.idle": "2020-09-12T19:21:37.145715Z",
     "shell.execute_reply": "2020-09-12T19:21:37.146256Z"
    },
    "papermill": {
     "duration": 0.254267,
     "end_time": "2020-09-12T19:21:37.146406",
     "exception": false,
     "start_time": "2020-09-12T19:21:36.892139",
     "status": "completed"
    },
    "tags": []
   },
   "outputs": [
    {
     "data": {
      "image/png": "[encoded data removed]",
      "text/plain": [
       "<Figure size 432x288 with 1 Axes>"
      ]
     },
     "metadata": {
      "image/png": {
       "height": 248,
       "width": 368
      },
      "needs_background": "light"
     },
     "output_type": "display_data"
    }
   ],
   "source": [
    "'''plt.plot(train_losses, label='Training loss')\n",
    "plt.plot(test_losses, label='Validation loss')\n",
    "plt.legend(frameon=False)\n",
    "plt.show()'''"
   ]
  },
  {
   "cell_type": "code",
   "execution_count": null,
   "metadata": {
    "papermill": {
     "duration": 0.050072,
     "end_time": "2020-09-12T19:21:37.249056",
     "exception": false,
     "start_time": "2020-09-12T19:21:37.198984",
     "status": "completed"
    },
    "tags": []
   },
   "outputs": [],
   "source": []
  }
 ],
 "metadata": {
  "kernelspec": {
   "display_name": "Python 3",
   "language": "python",
   "name": "python3"
  },
  "language_info": {
   "codemirror_mode": {
    "name": "ipython",
    "version": 3
   },
   "file_extension": ".py",
   "mimetype": "text/x-python",
   "name": "python",
   "nbconvert_exporter": "python",
   "pygments_lexer": "ipython3",
   "version": "3.7.6"
  },
  "papermill": {
   "duration": 20572.597368,
   "end_time": "2020-09-12T19:21:37.907942",
   "environment_variables": {},
   "exception": null,
   "input_path": "__notebook__.ipynb",
   "output_path": "__notebook__.ipynb",
   "parameters": {},
   "start_time": "2020-09-12T13:38:45.310574",
   "version": "2.1.0"
  },
  "widgets": {
   "application/vnd.jupyter.widget-state+json": {
    "state": {
     "0eec684ba78c406ba685e2764518b150": {
      "model_module": "@jupyter-widgets/controls",
      "model_module_version": "1.5.0",
      "model_name": "ProgressStyleModel",
      "state": {
       "_model_module": "@jupyter-widgets/controls",
       "_model_module_version": "1.5.0",
       "_model_name": "ProgressStyleModel",
       "_view_count": null,
       "_view_module": "@jupyter-widgets/base",
       "_view_module_version": "1.2.0",
       "_view_name": "StyleView",
       "bar_color": null,
       "description_width": "initial"
      }
     },
     "32c3621a8a5e46e6bafd4a8014e0f7a2": {
      "model_module": "@jupyter-widgets/base",
      "model_module_version": "1.2.0",
      "model_name": "LayoutModel",
      "state": {
       "_model_module": "@jupyter-widgets/base",
       "_model_module_version": "1.2.0",
       "_model_name": "LayoutModel",
       "_view_count": null,
       "_view_module": "@jupyter-widgets/base",
       "_view_module_version": "1.2.0",
       "_view_name": "LayoutView",
       "align_content": null,
       "align_items": null,
       "align_self": null,
       "border": null,
       "bottom": null,
       "display": null,
       "flex": null,
       "flex_flow": null,
       "grid_area": null,
       "grid_auto_columns": null,
       "grid_auto_flow": null,
       "grid_auto_rows": null,
       "grid_column": null,
       "grid_gap": null,
       "grid_row": null,
       "grid_template_areas": null,
       "grid_template_columns": null,
       "grid_template_rows": null,
       "height": null,
       "justify_content": null,
       "justify_items": null,
       "left": null,
       "margin": null,
       "max_height": null,
       "max_width": null,
       "min_height": null,
       "min_width": null,
       "object_fit": null,
       "object_position": null,
       "order": null,
       "overflow": null,
       "overflow_x": null,
       "overflow_y": null,
       "padding": null,
       "right": null,
       "top": null,
       "visibility": null,
       "width": null
      }
     },
     "3e337c91db844c9f99c0086c76d9aed3": {
      "model_module": "@jupyter-widgets/base",
      "model_module_version": "1.2.0",
      "model_name": "LayoutModel",
      "state": {
       "_model_module": "@jupyter-widgets/base",
       "_model_module_version": "1.2.0",
       "_model_name": "LayoutModel",
       "_view_count": null,
       "_view_module": "@jupyter-widgets/base",
       "_view_module_version": "1.2.0",
       "_view_name": "LayoutView",
       "align_content": null,
       "align_items": null,
       "align_self": null,
       "border": null,
       "bottom": null,
       "display": null,
       "flex": null,
       "flex_flow": null,
       "grid_area": null,
       "grid_auto_columns": null,
       "grid_auto_flow": null,
       "grid_auto_rows": null,
       "grid_column": null,
       "grid_gap": null,
       "grid_row": null,
       "grid_template_areas": null,
       "grid_template_columns": null,
       "grid_template_rows": null,
       "height": null,
       "justify_content": null,
       "justify_items": null,
       "left": null,
       "margin": null,
       "max_height": null,
       "max_width": null,
       "min_height": null,
       "min_width": null,
       "object_fit": null,
       "object_position": null,
       "order": null,
       "overflow": null,
       "overflow_x": null,
       "overflow_y": null,
       "padding": null,
       "right": null,
       "top": null,
       "visibility": null,
       "width": null
      }
     },
     "473086c2fa2a4014ad097698e92e8a5d": {
      "model_module": "@jupyter-widgets/base",
      "model_module_version": "1.2.0",
      "model_name": "LayoutModel",
      "state": {
       "_model_module": "@jupyter-widgets/base",
       "_model_module_version": "1.2.0",
       "_model_name": "LayoutModel",
       "_view_count": null,
       "_view_module": "@jupyter-widgets/base",
       "_view_module_version": "1.2.0",
       "_view_name": "LayoutView",
       "align_content": null,
       "align_items": null,
       "align_self": null,
       "border": null,
       "bottom": null,
       "display": null,
       "flex": null,
       "flex_flow": null,
       "grid_area": null,
       "grid_auto_columns": null,
       "grid_auto_flow": null,
       "grid_auto_rows": null,
       "grid_column": null,
       "grid_gap": null,
       "grid_row": null,
       "grid_template_areas": null,
       "grid_template_columns": null,
       "grid_template_rows": null,
       "height": null,
       "justify_content": null,
       "justify_items": null,
       "left": null,
       "margin": null,
       "max_height": null,
       "max_width": null,
       "min_height": null,
       "min_width": null,
       "object_fit": null,
       "object_position": null,
       "order": null,
       "overflow": null,
       "overflow_x": null,
       "overflow_y": null,
       "padding": null,
       "right": null,
       "top": null,
       "visibility": null,
       "width": null
      }
     },
     "85b388a8581d4737b3ddf56421da4ff2": {
      "model_module": "@jupyter-widgets/controls",
      "model_module_version": "1.5.0",
      "model_name": "FloatProgressModel",
      "state": {
       "_dom_classes": [],
       "_model_module": "@jupyter-widgets/controls",
       "_model_module_version": "1.5.0",
       "_model_name": "FloatProgressModel",
       "_view_count": null,
       "_view_module": "@jupyter-widgets/controls",
       "_view_module_version": "1.5.0",
       "_view_name": "ProgressView",
       "bar_style": "success",
       "description": "100%",
       "description_tooltip": null,
       "layout": "IPY_MODEL_32c3621a8a5e46e6bafd4a8014e0f7a2",
       "max": 87306240.0,
       "min": 0.0,
       "orientation": "horizontal",
       "style": "IPY_MODEL_0eec684ba78c406ba685e2764518b150",
       "value": 87306240.0
      }
     },
     "a84780b6d60e4f4aae96bcb5664c9975": {
      "model_module": "@jupyter-widgets/controls",
      "model_module_version": "1.5.0",
      "model_name": "HTMLModel",
      "state": {
       "_dom_classes": [],
       "_model_module": "@jupyter-widgets/controls",
       "_model_module_version": "1.5.0",
       "_model_name": "HTMLModel",
       "_view_count": null,
       "_view_module": "@jupyter-widgets/controls",
       "_view_module_version": "1.5.0",
       "_view_name": "HTMLView",
       "description": "",
       "description_tooltip": null,
       "layout": "IPY_MODEL_3e337c91db844c9f99c0086c76d9aed3",
       "placeholder": "​",
       "style": "IPY_MODEL_c7d4fd5ef7574f5eb398b14b002a1967",
       "value": " 83.3M/83.3M [5:37:40&lt;00:00, 4.31kB/s]"
      }
     },
     "c7d4fd5ef7574f5eb398b14b002a1967": {
      "model_module": "@jupyter-widgets/controls",
      "model_module_version": "1.5.0",
      "model_name": "DescriptionStyleModel",
      "state": {
       "_model_module": "@jupyter-widgets/controls",
       "_model_module_version": "1.5.0",
       "_model_name": "DescriptionStyleModel",
       "_view_count": null,
       "_view_module": "@jupyter-widgets/base",
       "_view_module_version": "1.2.0",
       "_view_name": "StyleView",
       "description_width": ""
      }
     },
     "c9ab3894c9ee405cbf843254ba5e295c": {
      "model_module": "@jupyter-widgets/controls",
      "model_module_version": "1.5.0",
      "model_name": "HBoxModel",
      "state": {
       "_dom_classes": [],
       "_model_module": "@jupyter-widgets/controls",
       "_model_module_version": "1.5.0",
       "_model_name": "HBoxModel",
       "_view_count": null,
       "_view_module": "@jupyter-widgets/controls",
       "_view_module_version": "1.5.0",
       "_view_name": "HBoxView",
       "box_style": "",
       "children": [
        "IPY_MODEL_85b388a8581d4737b3ddf56421da4ff2",
        "IPY_MODEL_a84780b6d60e4f4aae96bcb5664c9975"
       ],
       "layout": "IPY_MODEL_473086c2fa2a4014ad097698e92e8a5d"
      }
     }
    },
    "version_major": 2,
    "version_minor": 0
   }
  }
 },
 "nbformat": 4,
 "nbformat_minor": 4
}
